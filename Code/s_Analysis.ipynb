{
 "cells": [
  {
   "cell_type": "code",
   "execution_count": 41,
   "metadata": {},
   "outputs": [
    {
     "name": "stdout",
     "output_type": "stream",
     "text": [
      "Enter the csv file name including the .csv = commentData.csv\n",
      "True Positive 18\n",
      "False Positive 0\n",
      "True Negative 4\n",
      "False Negative 1\n",
      "Neutral Results 25\n",
      "Positive Results 24\n",
      "Negative Results 7\n",
      "Neutral Results 18\n",
      "Accuracy for positive=  70.96774193548387\n",
      "Precision=  100.0\n",
      "Recall=  75.0\n"
     ]
    },
    {
     "data": {
      "image/png": "[encoded data removed]",
      "text/plain": [
       "<Figure size 432x288 with 1 Axes>"
      ]
     },
     "metadata": {
      "needs_background": "light"
     },
     "output_type": "display_data"
    }
   ],
   "source": [
    "## Majid's Code implementation of SENTIMENT ANALYSIS for mobile review using Comments from Youtube.\n",
    "\n",
    "import numpy as np\n",
    "import csv\n",
    "import matplotlib.pyplot as plt\n",
    "%matplotlib inline\n",
    "from textblob import TextBlob\n",
    "\n",
    "file_name=input('Enter the csv file name including the .csv = ')\n",
    "label = ['Positive','Negative','Neutral']  ## Name of labels\n",
    "index=np.arange(len(label)) ## will be used for plotting in graph\n",
    "values=[]  ## for  \n",
    "infile = file_name ## dataset for comment\n",
    "true_neg=0\n",
    "false_neg=0\n",
    "true_pos=0\n",
    "false_pos=0\n",
    "neu=0\n",
    "\n",
    "positive=0\n",
    "negative=0\n",
    "neutral=0\n",
    "## code for Textblob for giving polarity \n",
    "with open(infile, 'r',encoding='utf8') as csvfile:\n",
    "    rows = csv.reader(csvfile)\n",
    "    for row in rows:\n",
    "        sentence = row[0]\n",
    "        blob = TextBlob(sentence)\n",
    "        value = row[1]\n",
    "        if value=='1':\n",
    "            positive += 1\n",
    "        if value=='-1':\n",
    "            negative += 1\n",
    "        if value=='0':\n",
    "            neutral += 1\n",
    "        \n",
    "        if blob.sentiment.polarity >0 and value=='1':\n",
    "            true_pos += 1\n",
    "        elif blob.sentiment.polarity >0 and value=='-1':\n",
    "            false_pos +=1\n",
    "            \n",
    "        if blob.sentiment.polarity <0 and value=='-1':\n",
    "            true_neg += 1\n",
    "        elif blob.sentiment.polarity <0 and value=='1':\n",
    "            false_neg +=1\n",
    "            \n",
    "        if blob.sentiment.polarity==0:\n",
    "            neu += 1\n",
    "#        print (sentence)\n",
    "#        print (blob.sentiment.polarity,value)\n",
    "\n",
    "## printing for results of comments\n",
    "print('True Positive',true_pos)\n",
    "print('False Positive',false_pos)\n",
    "print('True Negative',true_neg)\n",
    "print('False Negative',false_neg)\n",
    "print('Neutral Results',neu)\n",
    "\n",
    "## printing for results of actual comment sentiments\n",
    "print('Positive Results',positive)\n",
    "print('Negative Results',negative)\n",
    "print('Neutral Results',neutral)\n",
    "\n",
    "print('Accuracy for positive= ',((true_pos+true_neg)/(positive+negative)*100))\n",
    "print('Precision= ',(true_pos/(true_pos+false_pos))*100)\n",
    "print('Recall= ',(true_pos/positive)*100)\n",
    "\n",
    "## for appending positive, negative, neutral in values list for plotting\n",
    "values.append(true_pos)\n",
    "values.append(true_neg)\n",
    "values.append(neu) \n",
    "\n",
    "## for plotting the Bar Graph according to the positive, negative and neutral review\n",
    "plt.bar(index, values, align='center', alpha=0.5)\n",
    "plt.xticks(index, label)\n",
    "plt.ylabel('Number of Comment')\n",
    "plt.xlabel('Comment Type')\n",
    "plt.title('Sentiment analysis from youtube comments')\n",
    "\n",
    "plt.show()\n"
   ]
  },
  {
   "cell_type": "code",
   "execution_count": null,
   "metadata": {},
   "outputs": [],
   "source": []
  },
  {
   "cell_type": "code",
   "execution_count": null,
   "metadata": {},
   "outputs": [],
   "source": []
  }
 ],
 "metadata": {
  "kernelspec": {
   "display_name": "Python 3",
   "language": "python",
   "name": "python3"
  },
  "language_info": {
   "codemirror_mode": {
    "name": "ipython",
    "version": 3
   },
   "file_extension": ".py",
   "mimetype": "text/x-python",
   "name": "python",
   "nbconvert_exporter": "python",
   "pygments_lexer": "ipython3",
   "version": "3.7.1"
  }
 },
 "nbformat": 4,
 "nbformat_minor": 2
}
